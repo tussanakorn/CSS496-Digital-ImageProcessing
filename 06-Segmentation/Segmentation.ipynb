{
 "cells": [
  {
   "cell_type": "code",
   "execution_count": 1,
   "metadata": {},
   "outputs": [
    {
     "data": {
      "text/plain": [
       "27"
      ]
     },
     "execution_count": 1,
     "metadata": {},
     "output_type": "execute_result"
    }
   ],
   "source": [
    "import cv2\n",
    "import numpy as np\n",
    "\n",
    "img = cv2.imread('brain.png',0)\n",
    "\n",
    "# Define the mask (kernel)\n",
    "kernel = np.array(([-1,-1,-1],\n",
    "                   [ 0, 0, 0],\n",
    "                   [ 1, 1, 1]), dtype='int')\n",
    "\n",
    "# Apply convolution\n",
    "output = cv2.filter2D(img, -1, kernel)\n",
    "\n",
    "# Show multiple image in one imshow\n",
    "numpy_horizontal = np.hstack((img, output))\n",
    "\n",
    "cv2.imshow('Result', numpy_horizontal)\n",
    "cv2.waitKey(0)"
   ]
  },
  {
   "cell_type": "code",
   "execution_count": null,
   "metadata": {},
   "outputs": [],
   "source": []
  }
 ],
 "metadata": {
  "interpreter": {
   "hash": "5152d93e24b98c1db61dbd62fbfcb1e69badd2e929680dab5246dd15895410b3"
  },
  "kernelspec": {
   "display_name": "Python 3.9.6 ('ipykernel_py3')",
   "language": "python",
   "name": "python3"
  },
  "language_info": {
   "codemirror_mode": {
    "name": "ipython",
    "version": 3
   },
   "file_extension": ".py",
   "mimetype": "text/x-python",
   "name": "python",
   "nbconvert_exporter": "python",
   "pygments_lexer": "ipython3",
   "version": "3.8.8"
  },
  "orig_nbformat": 4
 },
 "nbformat": 4,
 "nbformat_minor": 2
}
